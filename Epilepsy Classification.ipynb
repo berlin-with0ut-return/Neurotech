{
 "cells": [
  {
   "cell_type": "code",
   "execution_count": 53,
   "metadata": {},
   "outputs": [],
   "source": [
    "import pandas as pd\n",
    "import numpy as np\n",
    "%matplotlib inline\n",
    "import matplotlib.pyplot as plt\n",
    "import mne\n",
    "from matplotlib import pyplot as plt\n",
    "from sklearn.datasets import load_breast_cancer\n",
    "from sklearn.metrics import confusion_matrix\n",
    "from sklearn.neighbors import KNeighborsClassifier\n",
    "from sklearn.model_selection import train_test_split\n",
    "import seaborn as sns\n",
    "sns.set()"
   ]
  },
  {
   "cell_type": "code",
   "execution_count": 3,
   "metadata": {
    "scrolled": false
   },
   "outputs": [
    {
     "data": {
      "text/html": [
       "<div>\n",
       "<style scoped>\n",
       "    .dataframe tbody tr th:only-of-type {\n",
       "        vertical-align: middle;\n",
       "    }\n",
       "\n",
       "    .dataframe tbody tr th {\n",
       "        vertical-align: top;\n",
       "    }\n",
       "\n",
       "    .dataframe thead th {\n",
       "        text-align: right;\n",
       "    }\n",
       "</style>\n",
       "<table border=\"1\" class=\"dataframe\">\n",
       "  <thead>\n",
       "    <tr style=\"text-align: right;\">\n",
       "      <th></th>\n",
       "      <th>3700</th>\n",
       "      <th>3701</th>\n",
       "      <th>3702</th>\n",
       "      <th>3703</th>\n",
       "      <th>3704</th>\n",
       "      <th>3705</th>\n",
       "      <th>3706</th>\n",
       "      <th>3707</th>\n",
       "      <th>3708</th>\n",
       "      <th>3709</th>\n",
       "      <th>...</th>\n",
       "      <th>4087</th>\n",
       "      <th>4088</th>\n",
       "      <th>4089</th>\n",
       "      <th>4090</th>\n",
       "      <th>4091</th>\n",
       "      <th>4092</th>\n",
       "      <th>4093</th>\n",
       "      <th>4094</th>\n",
       "      <th>4095</th>\n",
       "      <th>4096</th>\n",
       "    </tr>\n",
       "  </thead>\n",
       "  <tbody>\n",
       "    <tr>\n",
       "      <th>0</th>\n",
       "      <td>20</td>\n",
       "      <td>20</td>\n",
       "      <td>19</td>\n",
       "      <td>23</td>\n",
       "      <td>29</td>\n",
       "      <td>35</td>\n",
       "      <td>30</td>\n",
       "      <td>24</td>\n",
       "      <td>20</td>\n",
       "      <td>22</td>\n",
       "      <td>...</td>\n",
       "      <td>11</td>\n",
       "      <td>-12</td>\n",
       "      <td>-22</td>\n",
       "      <td>-25</td>\n",
       "      <td>-21</td>\n",
       "      <td>-22</td>\n",
       "      <td>-29</td>\n",
       "      <td>-37</td>\n",
       "      <td>-40</td>\n",
       "      <td>-64</td>\n",
       "    </tr>\n",
       "    <tr>\n",
       "      <th>1</th>\n",
       "      <td>150</td>\n",
       "      <td>137</td>\n",
       "      <td>120</td>\n",
       "      <td>88</td>\n",
       "      <td>62</td>\n",
       "      <td>44</td>\n",
       "      <td>42</td>\n",
       "      <td>43</td>\n",
       "      <td>41</td>\n",
       "      <td>42</td>\n",
       "      <td>...</td>\n",
       "      <td>-47</td>\n",
       "      <td>-63</td>\n",
       "      <td>-63</td>\n",
       "      <td>-50</td>\n",
       "      <td>-39</td>\n",
       "      <td>-25</td>\n",
       "      <td>-19</td>\n",
       "      <td>-14</td>\n",
       "      <td>-9</td>\n",
       "      <td>-37</td>\n",
       "    </tr>\n",
       "    <tr>\n",
       "      <th>2</th>\n",
       "      <td>2</td>\n",
       "      <td>1</td>\n",
       "      <td>2</td>\n",
       "      <td>-5</td>\n",
       "      <td>-4</td>\n",
       "      <td>-8</td>\n",
       "      <td>-5</td>\n",
       "      <td>-10</td>\n",
       "      <td>-9</td>\n",
       "      <td>5</td>\n",
       "      <td>...</td>\n",
       "      <td>-22</td>\n",
       "      <td>-32</td>\n",
       "      <td>-47</td>\n",
       "      <td>-52</td>\n",
       "      <td>-52</td>\n",
       "      <td>-43</td>\n",
       "      <td>-33</td>\n",
       "      <td>-38</td>\n",
       "      <td>-42</td>\n",
       "      <td>5</td>\n",
       "    </tr>\n",
       "    <tr>\n",
       "      <th>3</th>\n",
       "      <td>-63</td>\n",
       "      <td>-48</td>\n",
       "      <td>-38</td>\n",
       "      <td>-26</td>\n",
       "      <td>-4</td>\n",
       "      <td>22</td>\n",
       "      <td>45</td>\n",
       "      <td>57</td>\n",
       "      <td>63</td>\n",
       "      <td>72</td>\n",
       "      <td>...</td>\n",
       "      <td>42</td>\n",
       "      <td>47</td>\n",
       "      <td>58</td>\n",
       "      <td>65</td>\n",
       "      <td>74</td>\n",
       "      <td>70</td>\n",
       "      <td>72</td>\n",
       "      <td>67</td>\n",
       "      <td>65</td>\n",
       "      <td>-31</td>\n",
       "    </tr>\n",
       "    <tr>\n",
       "      <th>4</th>\n",
       "      <td>-42</td>\n",
       "      <td>-31</td>\n",
       "      <td>-28</td>\n",
       "      <td>-10</td>\n",
       "      <td>1</td>\n",
       "      <td>-29</td>\n",
       "      <td>3</td>\n",
       "      <td>-50</td>\n",
       "      <td>-29</td>\n",
       "      <td>7</td>\n",
       "      <td>...</td>\n",
       "      <td>195</td>\n",
       "      <td>184</td>\n",
       "      <td>164</td>\n",
       "      <td>145</td>\n",
       "      <td>167</td>\n",
       "      <td>185</td>\n",
       "      <td>245</td>\n",
       "      <td>209</td>\n",
       "      <td>150</td>\n",
       "      <td>-51</td>\n",
       "    </tr>\n",
       "  </tbody>\n",
       "</table>\n",
       "<p>5 rows × 397 columns</p>\n",
       "</div>"
      ],
      "text/plain": [
       "   3700  3701  3702  3703  3704  3705  3706  3707  3708  3709  ...  4087  \\\n",
       "0    20    20    19    23    29    35    30    24    20    22  ...    11   \n",
       "1   150   137   120    88    62    44    42    43    41    42  ...   -47   \n",
       "2     2     1     2    -5    -4    -8    -5   -10    -9     5  ...   -22   \n",
       "3   -63   -48   -38   -26    -4    22    45    57    63    72  ...    42   \n",
       "4   -42   -31   -28   -10     1   -29     3   -50   -29     7  ...   195   \n",
       "\n",
       "   4088  4089  4090  4091  4092  4093  4094  4095  4096  \n",
       "0   -12   -22   -25   -21   -22   -29   -37   -40   -64  \n",
       "1   -63   -63   -50   -39   -25   -19   -14    -9   -37  \n",
       "2   -32   -47   -52   -52   -43   -33   -38   -42     5  \n",
       "3    47    58    65    74    70    72    67    65   -31  \n",
       "4   184   164   145   167   185   245   209   150   -51  \n",
       "\n",
       "[5 rows x 397 columns]"
      ]
     },
     "execution_count": 3,
     "metadata": {},
     "output_type": "execute_result"
    }
   ],
   "source": [
    "# epileptics\n",
    "n = pd.read_csv('n_output.txt', header = None)\n",
    "n = np.reshape(n.values, (100, 4097))\n",
    "n = pd.DataFrame(n)\n",
    "# 2 seconds before seizure onset\n",
    "n = n.loc[:, 3700:4097]\n",
    "n.head()"
   ]
  },
  {
   "cell_type": "code",
   "execution_count": 4,
   "metadata": {},
   "outputs": [
    {
     "data": {
      "text/html": [
       "<div>\n",
       "<style scoped>\n",
       "    .dataframe tbody tr th:only-of-type {\n",
       "        vertical-align: middle;\n",
       "    }\n",
       "\n",
       "    .dataframe tbody tr th {\n",
       "        vertical-align: top;\n",
       "    }\n",
       "\n",
       "    .dataframe thead th {\n",
       "        text-align: right;\n",
       "    }\n",
       "</style>\n",
       "<table border=\"1\" class=\"dataframe\">\n",
       "  <thead>\n",
       "    <tr style=\"text-align: right;\">\n",
       "      <th></th>\n",
       "      <th>3700</th>\n",
       "      <th>3701</th>\n",
       "      <th>3702</th>\n",
       "      <th>3703</th>\n",
       "      <th>3704</th>\n",
       "      <th>3705</th>\n",
       "      <th>3706</th>\n",
       "      <th>3707</th>\n",
       "      <th>3708</th>\n",
       "      <th>3709</th>\n",
       "      <th>...</th>\n",
       "      <th>4087</th>\n",
       "      <th>4088</th>\n",
       "      <th>4089</th>\n",
       "      <th>4090</th>\n",
       "      <th>4091</th>\n",
       "      <th>4092</th>\n",
       "      <th>4093</th>\n",
       "      <th>4094</th>\n",
       "      <th>4095</th>\n",
       "      <th>4096</th>\n",
       "    </tr>\n",
       "  </thead>\n",
       "  <tbody>\n",
       "    <tr>\n",
       "      <th>0</th>\n",
       "      <td>-26</td>\n",
       "      <td>-29</td>\n",
       "      <td>-39</td>\n",
       "      <td>-59</td>\n",
       "      <td>-66</td>\n",
       "      <td>-54</td>\n",
       "      <td>-43</td>\n",
       "      <td>-43</td>\n",
       "      <td>-40</td>\n",
       "      <td>-47</td>\n",
       "      <td>...</td>\n",
       "      <td>-31</td>\n",
       "      <td>-28</td>\n",
       "      <td>-21</td>\n",
       "      <td>-14</td>\n",
       "      <td>-14</td>\n",
       "      <td>-25</td>\n",
       "      <td>-28</td>\n",
       "      <td>-11</td>\n",
       "      <td>8</td>\n",
       "      <td>77</td>\n",
       "    </tr>\n",
       "    <tr>\n",
       "      <th>1</th>\n",
       "      <td>-117</td>\n",
       "      <td>-112</td>\n",
       "      <td>-115</td>\n",
       "      <td>-86</td>\n",
       "      <td>-44</td>\n",
       "      <td>3</td>\n",
       "      <td>47</td>\n",
       "      <td>79</td>\n",
       "      <td>85</td>\n",
       "      <td>55</td>\n",
       "      <td>...</td>\n",
       "      <td>-63</td>\n",
       "      <td>-82</td>\n",
       "      <td>-114</td>\n",
       "      <td>-138</td>\n",
       "      <td>-159</td>\n",
       "      <td>-172</td>\n",
       "      <td>-180</td>\n",
       "      <td>-173</td>\n",
       "      <td>-162</td>\n",
       "      <td>-82</td>\n",
       "    </tr>\n",
       "    <tr>\n",
       "      <th>2</th>\n",
       "      <td>81</td>\n",
       "      <td>66</td>\n",
       "      <td>36</td>\n",
       "      <td>33</td>\n",
       "      <td>28</td>\n",
       "      <td>34</td>\n",
       "      <td>32</td>\n",
       "      <td>17</td>\n",
       "      <td>2</td>\n",
       "      <td>6</td>\n",
       "      <td>...</td>\n",
       "      <td>-91</td>\n",
       "      <td>-52</td>\n",
       "      <td>-23</td>\n",
       "      <td>-14</td>\n",
       "      <td>-5</td>\n",
       "      <td>-3</td>\n",
       "      <td>7</td>\n",
       "      <td>3</td>\n",
       "      <td>4</td>\n",
       "      <td>82</td>\n",
       "    </tr>\n",
       "    <tr>\n",
       "      <th>3</th>\n",
       "      <td>3</td>\n",
       "      <td>-25</td>\n",
       "      <td>-42</td>\n",
       "      <td>-45</td>\n",
       "      <td>2</td>\n",
       "      <td>-6</td>\n",
       "      <td>-32</td>\n",
       "      <td>-84</td>\n",
       "      <td>-64</td>\n",
       "      <td>6</td>\n",
       "      <td>...</td>\n",
       "      <td>-32</td>\n",
       "      <td>-32</td>\n",
       "      <td>-40</td>\n",
       "      <td>-23</td>\n",
       "      <td>-1</td>\n",
       "      <td>11</td>\n",
       "      <td>12</td>\n",
       "      <td>-6</td>\n",
       "      <td>10</td>\n",
       "      <td>33</td>\n",
       "    </tr>\n",
       "    <tr>\n",
       "      <th>4</th>\n",
       "      <td>-33</td>\n",
       "      <td>-17</td>\n",
       "      <td>13</td>\n",
       "      <td>40</td>\n",
       "      <td>36</td>\n",
       "      <td>39</td>\n",
       "      <td>24</td>\n",
       "      <td>5</td>\n",
       "      <td>-8</td>\n",
       "      <td>-21</td>\n",
       "      <td>...</td>\n",
       "      <td>1</td>\n",
       "      <td>-19</td>\n",
       "      <td>-29</td>\n",
       "      <td>-35</td>\n",
       "      <td>-51</td>\n",
       "      <td>-55</td>\n",
       "      <td>-58</td>\n",
       "      <td>-32</td>\n",
       "      <td>-6</td>\n",
       "      <td>-17</td>\n",
       "    </tr>\n",
       "  </tbody>\n",
       "</table>\n",
       "<p>5 rows × 397 columns</p>\n",
       "</div>"
      ],
      "text/plain": [
       "   3700  3701  3702  3703  3704  3705  3706  3707  3708  3709  ...  4087  \\\n",
       "0   -26   -29   -39   -59   -66   -54   -43   -43   -40   -47  ...   -31   \n",
       "1  -117  -112  -115   -86   -44     3    47    79    85    55  ...   -63   \n",
       "2    81    66    36    33    28    34    32    17     2     6  ...   -91   \n",
       "3     3   -25   -42   -45     2    -6   -32   -84   -64     6  ...   -32   \n",
       "4   -33   -17    13    40    36    39    24     5    -8   -21  ...     1   \n",
       "\n",
       "   4088  4089  4090  4091  4092  4093  4094  4095  4096  \n",
       "0   -28   -21   -14   -14   -25   -28   -11     8    77  \n",
       "1   -82  -114  -138  -159  -172  -180  -173  -162   -82  \n",
       "2   -52   -23   -14    -5    -3     7     3     4    82  \n",
       "3   -32   -40   -23    -1    11    12    -6    10    33  \n",
       "4   -19   -29   -35   -51   -55   -58   -32    -6   -17  \n",
       "\n",
       "[5 rows x 397 columns]"
      ]
     },
     "execution_count": 4,
     "metadata": {},
     "output_type": "execute_result"
    }
   ],
   "source": [
    "z = pd.read_csv('z_output.txt', header = None)\n",
    "z = np.reshape(z.values, (100, 4097))\n",
    "z = pd.DataFrame(z)\n",
    "z = z.loc[:, 3700:4097]\n",
    "z.head()"
   ]
  },
  {
   "cell_type": "code",
   "execution_count": 5,
   "metadata": {},
   "outputs": [
    {
     "name": "stdout",
     "output_type": "stream",
     "text": [
      "Creating RawArray with float64 data, n_channels=100, n_times=397\n",
      "    Range : 0 ... 396 =      0.000 ...     2.281 secs\n",
      "Ready.\n",
      "Creating RawArray with float64 data, n_channels=100, n_times=397\n",
      "    Range : 0 ... 396 =      0.000 ...     2.281 secs\n",
      "Ready.\n",
      "Filtering raw data in 1 contiguous segment\n",
      "Setting up band-pass filter from 1 - 30 Hz\n",
      "\n",
      "IIR filter parameters\n",
      "---------------------\n",
      "Butterworth bandpass zero-phase (two-pass forward and reverse) non-causal filter:\n",
      "- Filter order 16 (effective, after forward-backward)\n",
      "- Cutoffs at 1.00, 30.00 Hz: -6.02, -6.02 dB\n",
      "\n",
      "Filtering raw data in 1 contiguous segment\n",
      "Setting up band-pass filter from 1 - 30 Hz\n",
      "\n",
      "IIR filter parameters\n",
      "---------------------\n",
      "Butterworth bandpass zero-phase (two-pass forward and reverse) non-causal filter:\n",
      "- Filter order 16 (effective, after forward-backward)\n",
      "- Cutoffs at 1.00, 30.00 Hz: -6.02, -6.02 dB\n",
      "\n"
     ]
    },
    {
     "data": {
      "text/plain": [
       "<RawArray  |  None, n_channels x n_times : 100 x 397 (2.3 sec), ~503 kB, data loaded>"
      ]
     },
     "execution_count": 5,
     "metadata": {},
     "output_type": "execute_result"
    }
   ],
   "source": [
    "info = mne.create_info(100,  173.61, ch_types='eeg')\n",
    "n_raw = mne.io.RawArray(n.values, info)\n",
    "z_raw = mne.io.RawArray(z.values, info) \n",
    "n_raw.filter(1,30, method='iir')\n",
    "z_raw.filter(1, 30, method = 'iir')"
   ]
  },
  {
   "cell_type": "code",
   "execution_count": 6,
   "metadata": {
    "scrolled": false
   },
   "outputs": [],
   "source": [
    "# n_lbl = np.full(100, 'e')\n",
    "# z_lbl = np.full(100, 'h')\n",
    "# n['Condition'] = n_lbl\n",
    "# z['Condition'] = z_lbl\n",
    "nz = pd.concat([n, z], ignore_index = True)"
   ]
  },
  {
   "cell_type": "code",
   "execution_count": 7,
   "metadata": {},
   "outputs": [
    {
     "name": "stdout",
     "output_type": "stream",
     "text": [
      "Creating RawArray with float64 data, n_channels=200, n_times=397\n",
      "    Range : 0 ... 396 =      0.000 ...     2.281 secs\n",
      "Ready.\n",
      "Filtering raw data in 1 contiguous segment\n",
      "Setting up band-pass filter from 1 - 30 Hz\n",
      "\n",
      "IIR filter parameters\n",
      "---------------------\n",
      "Butterworth bandpass zero-phase (two-pass forward and reverse) non-causal filter:\n",
      "- Filter order 16 (effective, after forward-backward)\n",
      "- Cutoffs at 1.00, 30.00 Hz: -6.02, -6.02 dB\n",
      "\n"
     ]
    },
    {
     "data": {
      "text/plain": [
       "<RawArray  |  None, n_channels x n_times : 200 x 397 (2.3 sec), ~1001 kB, data loaded>"
      ]
     },
     "execution_count": 7,
     "metadata": {},
     "output_type": "execute_result"
    }
   ],
   "source": [
    "info = mne.create_info(200,  173.61, ch_types='eeg')\n",
    "raw = mne.io.RawArray(nz.values, info)\n",
    "raw.filter(1,30, method='iir')"
   ]
  },
  {
   "cell_type": "code",
   "execution_count": 8,
   "metadata": {},
   "outputs": [
    {
     "name": "stdout",
     "output_type": "stream",
     "text": [
      "(array([[ -0.20116649,  -0.98464115,   0.93017001,   5.97286968,\n",
      "         11.68720462,  14.47264421,  12.60067304,   8.03081265,\n",
      "          5.22127619,   7.64784838,  14.82567672,  22.34349933,\n",
      "         25.03018783,  20.84302025,  12.42704098,   5.13017024,\n",
      "          3.11293383,   6.64487157,  12.49932251,  16.68830133,\n",
      "         17.07272691,  14.0079501 ,   9.16067075,   3.94000315,\n",
      "         -1.2078436 ,  -6.33455666, -10.87889925, -12.98521421,\n",
      "        -10.31674511,  -2.25837719,   8.36958864,  16.26970726,\n",
      "         17.24377628,  11.50281991,   3.56514149,  -1.43899173,\n",
      "         -1.90260414,  -0.75895778,  -2.63414695,  -9.67894208,\n",
      "        -19.52291696, -26.82771964, -27.02315845, -19.36651627,\n",
      "         -7.34907605,   3.37824586,   7.87575168,   4.0072248 ,\n",
      "         -6.818987  , -20.22965318, -30.71255437, -34.23992382,\n",
      "        -30.3299132 , -21.93717395, -12.97617262,  -5.42083369,\n",
      "          1.44490431,   9.00283151,  16.70214292,  21.73224887,\n",
      "         21.42357351,  15.99364466,   8.98049623,   5.02512497,\n",
      "          6.96954983,  14.41216484,  24.29946424,  32.70384353,\n",
      "         36.67708694,  35.47634077,  30.76100959,  25.57226514,\n",
      "         22.41746411,  21.47319056,  20.16147071,  14.68130104,\n",
      "          2.71162517, -14.61212749, -33.10050287, -48.20009219,\n",
      "        -57.96786221, -63.9872535 , -69.60321061, -77.14249091,\n",
      "        -86.38531187, -94.96836992, -99.64942885, -97.34838655,\n",
      "        -85.96525824, -65.32850344, -37.92048845,  -8.570964  ,\n",
      "         17.04663081,  34.3054453 ,  40.93604192,  37.39551762,\n",
      "         26.44629236,  12.21487391,  -1.00143228,  -9.85959014,\n",
      "        -12.67510599,  -9.51157133,  -1.80456837,   8.13751442,\n",
      "         17.61810722,  24.22492309,  26.82440542,  26.39373753,\n",
      "         25.76033205,  27.95204467,  34.1995384 ,  43.13926677,\n",
      "         51.78823406,  57.45720992,  59.18890215,  57.79258771,\n",
      "         54.63454183,  50.29317339,  44.23609449,  35.69522056,\n",
      "         24.75843164,  12.53573602,   0.38274281, -10.6898755 ,\n",
      "        -19.72995173, -25.55249961, -27.6027079 , -27.31525349,\n",
      "        -27.86010611, -31.5259508 , -36.91082337, -38.9965406 ,\n",
      "        -32.6812658 , -16.93692203,   3.99616148,  23.3258722 ,\n",
      "         35.95780697,  40.99960129,  41.1557127 ,  40.16521339,\n",
      "         40.45313532,  42.41648397,  45.24813194,  48.12362962,\n",
      "         50.68137972,  52.70521532,  53.68159246,  52.80340221,\n",
      "         49.37797962,  43.20140001,  34.62122835,  24.39817237,\n",
      "         13.56970798,   3.33776494,  -5.06929149, -10.59901741,\n",
      "        -12.73076254, -11.88085623,  -9.37554745,  -6.77761278,\n",
      "         -5.23075348,  -5.5373597 ,  -8.53816171, -14.80542138,\n",
      "        -23.74741256, -33.36241222, -41.3164788 , -46.41056556,\n",
      "        -48.89720772, -49.33588005, -47.37823121, -42.02175313,\n",
      "        -33.19183148, -22.90938391, -14.61338393, -11.11284199,\n",
      "        -13.06249339, -19.22128937, -27.78762295, -37.13337213,\n",
      "        -45.40461431, -50.1361486 , -49.04825877, -41.62489161,\n",
      "        -29.91760753, -17.61235507,  -8.01430866,  -2.48087738,\n",
      "         -0.16350541,   1.25509972,   4.4281892 ,  11.06125084,\n",
      "         20.88641751,  31.74267633,  41.0292866 ,  47.42278359,\n",
      "         51.36374864,  54.06773459,  56.22213595,  57.57105305,\n",
      "         57.44083973,  55.30767554,  50.76385344,  43.24543573,\n",
      "         32.23549961,  17.86962431,   1.15507268, -16.49695992,\n",
      "        -33.77476413, -49.42328997, -62.03939416, -70.4393993 ,\n",
      "        -74.52541549, -75.73271664, -76.35484722, -78.07594442,\n",
      "        -80.80634764, -82.72002935, -81.48046549, -75.7792106 ,\n",
      "        -66.11887263, -54.39343857, -42.74197455, -32.50134064,\n",
      "        -23.6701131 , -14.93033301,  -4.37304987,   9.10099658,\n",
      "         24.53598787,  39.00558832,  49.23022806,  53.57028717,\n",
      "         52.93850263,  50.05609914,  47.64398308,  46.83729098,\n",
      "         46.93585953,  46.56312906,  45.17070914,  43.61799182,\n",
      "         43.41970694,  45.34377511,  48.47322494,  50.43586852,\n",
      "         48.70291036,  42.16871229,  31.96741817,  20.92296771,\n",
      "         12.00699617,   6.84838178,   5.12275245,   5.00010402,\n",
      "          4.3476108 ,   2.02158607,  -1.64347425,  -5.57431484,\n",
      "         -9.23285312, -13.15845414, -18.28533516, -24.79441283,\n",
      "        -31.62953967, -37.10667505, -40.12015373, -41.03155344,\n",
      "        -41.52965051, -43.39644648, -46.95254532, -50.43961439,\n",
      "        -51.05540372, -46.9847595 , -38.9050425 , -29.94317523,\n",
      "        -24.14701629, -24.21264801, -29.60792478, -36.45441671,\n",
      "        -39.75207915, -36.62473759, -28.04306383, -17.66145286,\n",
      "         -8.95531316,  -3.06125751,   1.35974821,   6.70254954,\n",
      "         14.66365911,  25.13596697,  36.38312122,  46.59502943,\n",
      "         55.76405798,  65.99265717,  79.4178308 ,  95.39426979,\n",
      "        109.76043647, 117.27034964, 115.17393261, 104.76673987,\n",
      "         89.84509707,  74.02650257,  59.461116  ,  47.32619361,\n",
      "         38.57457335,  33.77528583,  32.45645587,  32.95618589,\n",
      "         33.00886566,  30.51025378,  24.0653176 ,  13.39527835,\n",
      "         -0.44226448, -15.37711371, -29.18783328, -40.260124  ,\n",
      "        -47.72487626, -51.20256225, -50.7142267 , -46.95936755,\n",
      "        -41.69717472, -37.70886541, -37.78638436, -42.77779105,\n",
      "        -49.94055331, -53.46596579, -47.73967452, -31.3543434 ,\n",
      "         -8.61232854,  13.0164326 ,  27.60106173,  33.904436  ,\n",
      "         34.78991433,  34.01624171,  33.51007729,  33.14456988,\n",
      "         32.35609115,  31.40747092,  31.03578   ,  31.18269285,\n",
      "         30.2884727 ,  25.82505743,  15.68657001,  -0.36297526,\n",
      "        -20.06946487, -39.56962377, -55.47130097, -66.7108284 ,\n",
      "        -74.88938752, -83.09417224, -94.17279376]]), array([0.        , 0.00576004, 0.01152007, 0.01728011, 0.02304015,\n",
      "       0.02880018, 0.03456022, 0.04032026, 0.04608029, 0.05184033,\n",
      "       0.05760037, 0.06336041, 0.06912044, 0.07488048, 0.08064052,\n",
      "       0.08640055, 0.09216059, 0.09792063, 0.10368066, 0.1094407 ,\n",
      "       0.11520074, 0.12096077, 0.12672081, 0.13248085, 0.13824088,\n",
      "       0.14400092, 0.14976096, 0.155521  , 0.16128103, 0.16704107,\n",
      "       0.17280111, 0.17856114, 0.18432118, 0.19008122, 0.19584125,\n",
      "       0.20160129, 0.20736133, 0.21312136, 0.2188814 , 0.22464144,\n",
      "       0.23040147, 0.23616151, 0.24192155, 0.24768159, 0.25344162,\n",
      "       0.25920166, 0.2649617 , 0.27072173, 0.27648177, 0.28224181,\n",
      "       0.28800184, 0.29376188, 0.29952192, 0.30528195, 0.31104199,\n",
      "       0.31680203, 0.32256206, 0.3283221 , 0.33408214, 0.33984217,\n",
      "       0.34560221, 0.35136225, 0.35712229, 0.36288232, 0.36864236,\n",
      "       0.3744024 , 0.38016243, 0.38592247, 0.39168251, 0.39744254,\n",
      "       0.40320258, 0.40896262, 0.41472265, 0.42048269, 0.42624273,\n",
      "       0.43200276, 0.4377628 , 0.44352284, 0.44928288, 0.45504291,\n",
      "       0.46080295, 0.46656299, 0.47232302, 0.47808306, 0.4838431 ,\n",
      "       0.48960313, 0.49536317, 0.50112321, 0.50688324, 0.51264328,\n",
      "       0.51840332, 0.52416335, 0.52992339, 0.53568343, 0.54144347,\n",
      "       0.5472035 , 0.55296354, 0.55872358, 0.56448361, 0.57024365,\n",
      "       0.57600369, 0.58176372, 0.58752376, 0.5932838 , 0.59904383,\n",
      "       0.60480387, 0.61056391, 0.61632394, 0.62208398, 0.62784402,\n",
      "       0.63360406, 0.63936409, 0.64512413, 0.65088417, 0.6566442 ,\n",
      "       0.66240424, 0.66816428, 0.67392431, 0.67968435, 0.68544439,\n",
      "       0.69120442, 0.69696446, 0.7027245 , 0.70848453, 0.71424457,\n",
      "       0.72000461, 0.72576464, 0.73152468, 0.73728472, 0.74304476,\n",
      "       0.74880479, 0.75456483, 0.76032487, 0.7660849 , 0.77184494,\n",
      "       0.77760498, 0.78336501, 0.78912505, 0.79488509, 0.80064512,\n",
      "       0.80640516, 0.8121652 , 0.81792523, 0.82368527, 0.82944531,\n",
      "       0.83520535, 0.84096538, 0.84672542, 0.85248546, 0.85824549,\n",
      "       0.86400553, 0.86976557, 0.8755256 , 0.88128564, 0.88704568,\n",
      "       0.89280571, 0.89856575, 0.90432579, 0.91008582, 0.91584586,\n",
      "       0.9216059 , 0.92736594, 0.93312597, 0.93888601, 0.94464605,\n",
      "       0.95040608, 0.95616612, 0.96192616, 0.96768619, 0.97344623,\n",
      "       0.97920627, 0.9849663 , 0.99072634, 0.99648638, 1.00224641,\n",
      "       1.00800645, 1.01376649, 1.01952652, 1.02528656, 1.0310466 ,\n",
      "       1.03680664, 1.04256667, 1.04832671, 1.05408675, 1.05984678,\n",
      "       1.06560682, 1.07136686, 1.07712689, 1.08288693, 1.08864697,\n",
      "       1.094407  , 1.10016704, 1.10592708, 1.11168711, 1.11744715,\n",
      "       1.12320719, 1.12896723, 1.13472726, 1.1404873 , 1.14624734,\n",
      "       1.15200737, 1.15776741, 1.16352745, 1.16928748, 1.17504752,\n",
      "       1.18080756, 1.18656759, 1.19232763, 1.19808767, 1.2038477 ,\n",
      "       1.20960774, 1.21536778, 1.22112782, 1.22688785, 1.23264789,\n",
      "       1.23840793, 1.24416796, 1.249928  , 1.25568804, 1.26144807,\n",
      "       1.26720811, 1.27296815, 1.27872818, 1.28448822, 1.29024826,\n",
      "       1.29600829, 1.30176833, 1.30752837, 1.31328841, 1.31904844,\n",
      "       1.32480848, 1.33056852, 1.33632855, 1.34208859, 1.34784863,\n",
      "       1.35360866, 1.3593687 , 1.36512874, 1.37088877, 1.37664881,\n",
      "       1.38240885, 1.38816888, 1.39392892, 1.39968896, 1.40544899,\n",
      "       1.41120903, 1.41696907, 1.42272911, 1.42848914, 1.43424918,\n",
      "       1.44000922, 1.44576925, 1.45152929, 1.45728933, 1.46304936,\n",
      "       1.4688094 , 1.47456944, 1.48032947, 1.48608951, 1.49184955,\n",
      "       1.49760958, 1.50336962, 1.50912966, 1.5148897 , 1.52064973,\n",
      "       1.52640977, 1.53216981, 1.53792984, 1.54368988, 1.54944992,\n",
      "       1.55520995, 1.56096999, 1.56673003, 1.57249006, 1.5782501 ,\n",
      "       1.58401014, 1.58977017, 1.59553021, 1.60129025, 1.60705029,\n",
      "       1.61281032, 1.61857036, 1.6243304 , 1.63009043, 1.63585047,\n",
      "       1.64161051, 1.64737054, 1.65313058, 1.65889062, 1.66465065,\n",
      "       1.67041069, 1.67617073, 1.68193076, 1.6876908 , 1.69345084,\n",
      "       1.69921087, 1.70497091, 1.71073095, 1.71649099, 1.72225102,\n",
      "       1.72801106, 1.7337711 , 1.73953113, 1.74529117, 1.75105121,\n",
      "       1.75681124, 1.76257128, 1.76833132, 1.77409135, 1.77985139,\n",
      "       1.78561143, 1.79137146, 1.7971315 , 1.80289154, 1.80865158,\n",
      "       1.81441161, 1.82017165, 1.82593169, 1.83169172, 1.83745176,\n",
      "       1.8432118 , 1.84897183, 1.85473187, 1.86049191, 1.86625194,\n",
      "       1.87201198, 1.87777202, 1.88353205, 1.88929209, 1.89505213,\n",
      "       1.90081217, 1.9065722 , 1.91233224, 1.91809228, 1.92385231,\n",
      "       1.92961235, 1.93537239, 1.94113242, 1.94689246, 1.9526525 ,\n",
      "       1.95841253, 1.96417257, 1.96993261, 1.97569264, 1.98145268,\n",
      "       1.98721272, 1.99297276]))\n"
     ]
    }
   ],
   "source": [
    "sampling_freq = raw.info['sfreq']\n",
    "start_stop_seconds = np.array([0, 2])\n",
    "start_sample, stop_sample = (start_stop_seconds * sampling_freq).astype(int)\n",
    "channel_index = 0\n",
    "raw_selection = raw[channel_index, start_sample:stop_sample]\n",
    "print(raw_selection)"
   ]
  },
  {
   "cell_type": "code",
   "execution_count": 9,
   "metadata": {
    "scrolled": true
   },
   "outputs": [
    {
     "data": {
      "image/png": "[encoded data removed]",
      "text/plain": [
       "<Figure size 432x288 with 1 Axes>"
      ]
     },
     "metadata": {
      "needs_background": "light"
     },
     "output_type": "display_data"
    }
   ],
   "source": [
    "x = raw_selection[1]\n",
    "y = raw_selection[0].T\n",
    "plt.plot(x, y);"
   ]
  },
  {
   "cell_type": "code",
   "execution_count": 10,
   "metadata": {
    "scrolled": false
   },
   "outputs": [
    {
     "data": {
      "image/png": "[encoded data removed]",
      "text/plain": [
       "<Figure size 432x288 with 1 Axes>"
      ]
     },
     "metadata": {
      "needs_background": "light"
     },
     "output_type": "display_data"
    }
   ],
   "source": [
    "channel_names = [0, 199]\n",
    "two_eeg_chans = raw[channel_names, start_sample:stop_sample]\n",
    "y_offset = np.array([5e-11, 0])  # just enough to separate the channel traces\n",
    "x = two_eeg_chans[1]\n",
    "y = two_eeg_chans[0].T + y_offset\n",
    "lines = plt.plot(x, y)\n",
    "plt.legend(lines, channel_names);"
   ]
  },
  {
   "cell_type": "code",
   "execution_count": 11,
   "metadata": {},
   "outputs": [
    {
     "data": {
      "text/plain": [
       "array([[-2.01166493e-01, -9.84641153e-01,  9.30170014e-01,\n",
       "         5.97286968e+00,  1.16872046e+01,  1.44726442e+01,\n",
       "         1.26006730e+01,  8.03081265e+00,  5.22127619e+00,\n",
       "         7.64784838e+00,  1.48256767e+01,  2.23434993e+01,\n",
       "         2.50301878e+01,  2.08430202e+01,  1.24270410e+01,\n",
       "         5.13017024e+00,  3.11293383e+00,  6.64487157e+00,\n",
       "         1.24993225e+01,  1.66883013e+01,  1.70727269e+01,\n",
       "         1.40079501e+01,  9.16067075e+00,  3.94000315e+00,\n",
       "        -1.20784360e+00, -6.33455666e+00, -1.08788993e+01,\n",
       "        -1.29852142e+01, -1.03167451e+01, -2.25837719e+00,\n",
       "         8.36958864e+00,  1.62697073e+01,  1.72437763e+01,\n",
       "         1.15028199e+01,  3.56514149e+00, -1.43899173e+00,\n",
       "        -1.90260414e+00, -7.58957776e-01, -2.63414695e+00,\n",
       "        -9.67894208e+00, -1.95229170e+01, -2.68277196e+01,\n",
       "        -2.70231584e+01, -1.93665163e+01, -7.34907605e+00,\n",
       "         3.37824586e+00,  7.87575168e+00,  4.00722480e+00,\n",
       "        -6.81898700e+00, -2.02296532e+01, -3.07125544e+01,\n",
       "        -3.42399238e+01, -3.03299132e+01, -2.19371739e+01,\n",
       "        -1.29761726e+01, -5.42083369e+00,  1.44490431e+00,\n",
       "         9.00283151e+00,  1.67021429e+01,  2.17322489e+01,\n",
       "         2.14235735e+01,  1.59936447e+01,  8.98049623e+00,\n",
       "         5.02512497e+00,  6.96954983e+00,  1.44121648e+01,\n",
       "         2.42994642e+01,  3.27038435e+01,  3.66770869e+01,\n",
       "         3.54763408e+01,  3.07610096e+01,  2.55722651e+01,\n",
       "         2.24174641e+01,  2.14731906e+01,  2.01614707e+01,\n",
       "         1.46813010e+01,  2.71162517e+00, -1.46121275e+01,\n",
       "        -3.31005029e+01, -4.82000922e+01, -5.79678622e+01,\n",
       "        -6.39872535e+01, -6.96032106e+01, -7.71424909e+01,\n",
       "        -8.63853119e+01, -9.49683699e+01, -9.96494289e+01,\n",
       "        -9.73483865e+01, -8.59652582e+01, -6.53285034e+01,\n",
       "        -3.79204885e+01, -8.57096400e+00,  1.70466308e+01,\n",
       "         3.43054453e+01,  4.09360419e+01,  3.73955176e+01,\n",
       "         2.64462924e+01,  1.22148739e+01, -1.00143228e+00,\n",
       "        -9.85959014e+00, -1.26751060e+01, -9.51157133e+00,\n",
       "        -1.80456837e+00,  8.13751442e+00,  1.76181072e+01,\n",
       "         2.42249231e+01,  2.68244054e+01,  2.63937375e+01,\n",
       "         2.57603320e+01,  2.79520447e+01,  3.41995384e+01,\n",
       "         4.31392668e+01,  5.17882341e+01,  5.74572099e+01,\n",
       "         5.91889021e+01,  5.77925877e+01,  5.46345418e+01,\n",
       "         5.02931734e+01,  4.42360945e+01,  3.56952206e+01,\n",
       "         2.47584316e+01,  1.25357360e+01,  3.82742808e-01,\n",
       "        -1.06898755e+01, -1.97299517e+01, -2.55524996e+01,\n",
       "        -2.76027079e+01, -2.73152535e+01, -2.78601061e+01,\n",
       "        -3.15259508e+01, -3.69108234e+01, -3.89965406e+01,\n",
       "        -3.26812658e+01, -1.69369220e+01,  3.99616148e+00,\n",
       "         2.33258722e+01,  3.59578070e+01,  4.09996013e+01,\n",
       "         4.11557127e+01,  4.01652134e+01,  4.04531353e+01,\n",
       "         4.24164840e+01,  4.52481319e+01,  4.81236296e+01,\n",
       "         5.06813797e+01,  5.27052153e+01,  5.36815925e+01,\n",
       "         5.28034022e+01,  4.93779796e+01,  4.32014000e+01,\n",
       "         3.46212283e+01,  2.43981724e+01,  1.35697080e+01,\n",
       "         3.33776494e+00, -5.06929149e+00, -1.05990174e+01,\n",
       "        -1.27307625e+01, -1.18808562e+01, -9.37554745e+00,\n",
       "        -6.77761278e+00, -5.23075348e+00, -5.53735970e+00,\n",
       "        -8.53816171e+00, -1.48054214e+01, -2.37474126e+01,\n",
       "        -3.33624122e+01, -4.13164788e+01, -4.64105656e+01,\n",
       "        -4.88972077e+01, -4.93358800e+01, -4.73782312e+01,\n",
       "        -4.20217531e+01, -3.31918315e+01, -2.29093839e+01,\n",
       "        -1.46133839e+01, -1.11128420e+01, -1.30624934e+01,\n",
       "        -1.92212894e+01, -2.77876230e+01, -3.71333721e+01,\n",
       "        -4.54046143e+01, -5.01361486e+01, -4.90482588e+01,\n",
       "        -4.16248916e+01, -2.99176075e+01, -1.76123551e+01,\n",
       "        -8.01430866e+00, -2.48087738e+00, -1.63505406e-01,\n",
       "         1.25509972e+00,  4.42818920e+00,  1.10612508e+01,\n",
       "         2.08864175e+01,  3.17426763e+01,  4.10292866e+01,\n",
       "         4.74227836e+01,  5.13637486e+01,  5.40677346e+01,\n",
       "         5.62221360e+01,  5.75710531e+01,  5.74408397e+01,\n",
       "         5.53076755e+01,  5.07638534e+01,  4.32454357e+01,\n",
       "         3.22354996e+01,  1.78696243e+01,  1.15507268e+00,\n",
       "        -1.64969599e+01, -3.37747641e+01, -4.94232900e+01,\n",
       "        -6.20393942e+01, -7.04393993e+01, -7.45254155e+01,\n",
       "        -7.57327166e+01, -7.63548472e+01, -7.80759444e+01,\n",
       "        -8.08063476e+01, -8.27200294e+01, -8.14804655e+01,\n",
       "        -7.57792106e+01, -6.61188726e+01, -5.43934386e+01,\n",
       "        -4.27419746e+01, -3.25013406e+01, -2.36701131e+01,\n",
       "        -1.49303330e+01, -4.37304987e+00,  9.10099658e+00,\n",
       "         2.45359879e+01,  3.90055883e+01,  4.92302281e+01,\n",
       "         5.35702872e+01,  5.29385026e+01,  5.00560991e+01,\n",
       "         4.76439831e+01,  4.68372910e+01,  4.69358595e+01,\n",
       "         4.65631291e+01,  4.51707091e+01,  4.36179918e+01,\n",
       "         4.34197069e+01,  4.53437751e+01,  4.84732249e+01,\n",
       "         5.04358685e+01,  4.87029104e+01,  4.21687123e+01,\n",
       "         3.19674182e+01,  2.09229677e+01,  1.20069962e+01,\n",
       "         6.84838178e+00,  5.12275245e+00,  5.00010402e+00,\n",
       "         4.34761080e+00,  2.02158607e+00, -1.64347425e+00,\n",
       "        -5.57431484e+00, -9.23285312e+00, -1.31584541e+01,\n",
       "        -1.82853352e+01, -2.47944128e+01, -3.16295397e+01,\n",
       "        -3.71066750e+01, -4.01201537e+01, -4.10315534e+01,\n",
       "        -4.15296505e+01, -4.33964465e+01, -4.69525453e+01,\n",
       "        -5.04396144e+01, -5.10554037e+01, -4.69847595e+01,\n",
       "        -3.89050425e+01, -2.99431752e+01, -2.41470163e+01,\n",
       "        -2.42126480e+01, -2.96079248e+01, -3.64544167e+01,\n",
       "        -3.97520791e+01, -3.66247376e+01, -2.80430638e+01,\n",
       "        -1.76614529e+01, -8.95531316e+00, -3.06125751e+00,\n",
       "         1.35974821e+00,  6.70254954e+00,  1.46636591e+01,\n",
       "         2.51359670e+01,  3.63831212e+01,  4.65950294e+01,\n",
       "         5.57640580e+01,  6.59926572e+01,  7.94178308e+01,\n",
       "         9.53942698e+01,  1.09760436e+02,  1.17270350e+02,\n",
       "         1.15173933e+02,  1.04766740e+02,  8.98450971e+01,\n",
       "         7.40265026e+01,  5.94611160e+01,  4.73261936e+01,\n",
       "         3.85745734e+01,  3.37752858e+01,  3.24564559e+01,\n",
       "         3.29561859e+01,  3.30088657e+01,  3.05102538e+01,\n",
       "         2.40653176e+01,  1.33952784e+01, -4.42264477e-01,\n",
       "        -1.53771137e+01, -2.91878333e+01, -4.02601240e+01,\n",
       "        -4.77248763e+01, -5.12025622e+01, -5.07142267e+01,\n",
       "        -4.69593675e+01, -4.16971747e+01, -3.77088654e+01,\n",
       "        -3.77863844e+01, -4.27777910e+01, -4.99405533e+01,\n",
       "        -5.34659658e+01, -4.77396745e+01, -3.13543434e+01,\n",
       "        -8.61232854e+00,  1.30164326e+01,  2.76010617e+01,\n",
       "         3.39044360e+01,  3.47899143e+01,  3.40162417e+01,\n",
       "         3.35100773e+01,  3.31445699e+01,  3.23560911e+01,\n",
       "         3.14074709e+01,  3.10357800e+01,  3.11826929e+01,\n",
       "         3.02884727e+01,  2.58250574e+01,  1.56865700e+01,\n",
       "        -3.62975259e-01, -2.00694649e+01, -3.95696238e+01,\n",
       "        -5.54713010e+01, -6.67108284e+01, -7.48893875e+01,\n",
       "        -8.30941722e+01, -9.41727938e+01, -1.09294593e+02,\n",
       "        -1.27151249e+02, -1.44104541e+02, -1.55600830e+02,\n",
       "        -1.58452092e+02, -1.52526825e+02, -1.40473755e+02,\n",
       "        -1.25739710e+02, -1.10657389e+02, -9.60210192e+01,\n",
       "        -8.18635518e+01, -6.81344586e+01, -5.46093561e+01,\n",
       "        -4.06088146e+01, -2.53852703e+01, -9.03630747e+00,\n",
       "         7.17545680e+00,  2.17786832e+01,  3.45328338e+01,\n",
       "         4.68353412e+01,  6.05283703e+01,  7.61142111e+01,\n",
       "         9.19777640e+01,  1.05343839e+02,  1.14228080e+02,\n",
       "         1.18830781e+02,  1.21302736e+02,  1.24123228e+02,\n",
       "         1.28401379e+02,  1.33447130e+02,  1.37880692e+02,\n",
       "         1.41131638e+02,  1.43776497e+02,  1.46386857e+02,\n",
       "         1.48170975e+02,  1.46872928e+02,  1.40036277e+02,\n",
       "         1.26492237e+02,  1.07057421e+02,  8.43933421e+01,\n",
       "         6.24045274e+01,  4.51665495e+01,  3.53237229e+01,\n",
       "         3.27148556e+01,  3.44090332e+01,  3.62644764e+01,\n",
       "         3.47404031e+01,  2.78749097e+01,  1.56154932e+01,\n",
       "        -7.54720214e-02]])"
      ]
     },
     "execution_count": 11,
     "metadata": {},
     "output_type": "execute_result"
    }
   ],
   "source": [
    "n_raw[0][0]"
   ]
  },
  {
   "cell_type": "code",
   "execution_count": 12,
   "metadata": {},
   "outputs": [],
   "source": [
    "def ApEn(U, m, r) -> float:\n",
    "    \"\"\"Approximate_entropy.\"\"\"\n",
    "\n",
    "    def _maxdist(x_i, x_j):\n",
    "        return max([abs(ua - va) for ua, va in zip(x_i, x_j)])\n",
    "\n",
    "    def _phi(m):\n",
    "        x = [[U[j] for j in range(i, i + m - 1 + 1)] for i in range(N - m + 1)]\n",
    "        C = [len([1 for x_j in x if _maxdist(x_i, x_j) <= r]) / (N - m + 1.0) for x_i in x]\n",
    "        return (N - m + 1.0)**(-1) * sum(np.log(C))\n",
    "\n",
    "    N = len(U)\n",
    "\n",
    "    return abs(_phi(m+1) - _phi(m))"
   ]
  },
  {
   "cell_type": "code",
   "execution_count": 13,
   "metadata": {},
   "outputs": [
    {
     "data": {
      "text/plain": [
       "11.877165074233327"
      ]
     },
     "execution_count": 13,
     "metadata": {},
     "output_type": "execute_result"
    }
   ],
   "source": [
    "n_val = pd.read_csv('n_output.txt', header = None)\n",
    "n_r = np.std(n_val.values) * 0.2\n",
    "n_r"
   ]
  },
  {
   "cell_type": "code",
   "execution_count": 14,
   "metadata": {},
   "outputs": [
    {
     "data": {
      "text/plain": [
       "0.5543547774366586"
      ]
     },
     "execution_count": 14,
     "metadata": {},
     "output_type": "execute_result"
    }
   ],
   "source": [
    "ApEn(n_raw[2][0][0], 2, n_r)"
   ]
  },
  {
   "cell_type": "code",
   "execution_count": 15,
   "metadata": {},
   "outputs": [],
   "source": [
    "n_apen = []\n",
    "for i in range(80):\n",
    "    n_chan = n_raw[i][0][0]\n",
    "    n_apen += [ApEn(n_chan, 2, n_r)]"
   ]
  },
  {
   "cell_type": "code",
   "execution_count": 16,
   "metadata": {},
   "outputs": [
    {
     "data": {
      "text/plain": [
       "9.667791962091918"
      ]
     },
     "execution_count": 16,
     "metadata": {},
     "output_type": "execute_result"
    }
   ],
   "source": [
    "z_val = pd.read_csv('z_output.txt', header = None)\n",
    "z_r = np.std(z_val.values) * 0.2\n",
    "z_r"
   ]
  },
  {
   "cell_type": "code",
   "execution_count": 17,
   "metadata": {},
   "outputs": [],
   "source": [
    "z_apen = []\n",
    "for i in range(80):\n",
    "    z_chan = z_raw[i][0][0]\n",
    "    z_apen += [ApEn(z_chan, 2, z_r)]"
   ]
  },
  {
   "cell_type": "code",
   "execution_count": 18,
   "metadata": {},
   "outputs": [],
   "source": [
    "def SampEn(U, m, r):\n",
    "\n",
    "    def _maxdist(x_i, x_j):\n",
    "        result = max([abs(ua - va) for ua, va in zip(x_i, x_j)])\n",
    "        return result\n",
    "\n",
    "    def _phi(m):\n",
    "        x = [[U[j] for j in range(i, i + m - 1 + 1)] for i in range(N - m + 1)]\n",
    "        C = 0\n",
    "        for i in range(len(x)):\n",
    "            for j in range(len(x)):\n",
    "                if i == j:\n",
    "                    continue\n",
    "                C += (_maxdist(x[i], x[j]) <= r)\n",
    "        return C\n",
    "\n",
    "    N = len(U)\n",
    "    \n",
    "    return -np.log(_phi(m+1) / _phi(m))"
   ]
  },
  {
   "cell_type": "code",
   "execution_count": 19,
   "metadata": {},
   "outputs": [],
   "source": [
    "n_sampen = []\n",
    "for i in range(80):\n",
    "    n_chan = n_raw[i][0][0]\n",
    "    n_sampen += [SampEn(n_chan, 2, n_r)]\n",
    "z_sampen = []\n",
    "for i in range(80):\n",
    "    z_chan = z_raw[i][0][0]\n",
    "    z_sampen += [SampEn(z_chan, 2, z_r)]"
   ]
  },
  {
   "cell_type": "code",
   "execution_count": 20,
   "metadata": {
    "scrolled": true
   },
   "outputs": [
    {
     "data": {
      "text/plain": [
       "160"
      ]
     },
     "execution_count": 20,
     "metadata": {},
     "output_type": "execute_result"
    }
   ],
   "source": [
    "classes = np.concatenate([np.full(80, 0), np.full(80, 1)])\n",
    "len(classes)"
   ]
  },
  {
   "cell_type": "code",
   "execution_count": 21,
   "metadata": {},
   "outputs": [],
   "source": [
    "colors = np.concatenate([np.full(80, 'green'), np.full(80, 'red')])"
   ]
  },
  {
   "cell_type": "code",
   "execution_count": 22,
   "metadata": {},
   "outputs": [
    {
     "data": {
      "text/html": [
       "<div>\n",
       "<style scoped>\n",
       "    .dataframe tbody tr th:only-of-type {\n",
       "        vertical-align: middle;\n",
       "    }\n",
       "\n",
       "    .dataframe tbody tr th {\n",
       "        vertical-align: top;\n",
       "    }\n",
       "\n",
       "    .dataframe thead th {\n",
       "        text-align: right;\n",
       "    }\n",
       "</style>\n",
       "<table border=\"1\" class=\"dataframe\">\n",
       "  <thead>\n",
       "    <tr style=\"text-align: right;\">\n",
       "      <th></th>\n",
       "      <th>ApEn</th>\n",
       "      <th>SampEn</th>\n",
       "      <th>Class</th>\n",
       "    </tr>\n",
       "  </thead>\n",
       "  <tbody>\n",
       "    <tr>\n",
       "      <th>0</th>\n",
       "      <td>0.509262</td>\n",
       "      <td>0.485454</td>\n",
       "      <td>0</td>\n",
       "    </tr>\n",
       "    <tr>\n",
       "      <th>1</th>\n",
       "      <td>0.534940</td>\n",
       "      <td>0.575632</td>\n",
       "      <td>0</td>\n",
       "    </tr>\n",
       "    <tr>\n",
       "      <th>2</th>\n",
       "      <td>0.554355</td>\n",
       "      <td>0.434732</td>\n",
       "      <td>0</td>\n",
       "    </tr>\n",
       "    <tr>\n",
       "      <th>3</th>\n",
       "      <td>0.514679</td>\n",
       "      <td>0.492050</td>\n",
       "      <td>0</td>\n",
       "    </tr>\n",
       "    <tr>\n",
       "      <th>4</th>\n",
       "      <td>0.656920</td>\n",
       "      <td>0.898906</td>\n",
       "      <td>0</td>\n",
       "    </tr>\n",
       "  </tbody>\n",
       "</table>\n",
       "</div>"
      ],
      "text/plain": [
       "       ApEn    SampEn  Class\n",
       "0  0.509262  0.485454      0\n",
       "1  0.534940  0.575632      0\n",
       "2  0.554355  0.434732      0\n",
       "3  0.514679  0.492050      0\n",
       "4  0.656920  0.898906      0"
      ]
     },
     "execution_count": 22,
     "metadata": {},
     "output_type": "execute_result"
    }
   ],
   "source": [
    "entropies = {'ApEn': n_apen + z_apen, 'SampEn': n_sampen + z_sampen, \n",
    "            'Class': classes} \n",
    "train = pd.DataFrame(entropies)\n",
    "train.head()"
   ]
  },
  {
   "cell_type": "code",
   "execution_count": 23,
   "metadata": {},
   "outputs": [
    {
     "data": {
      "image/png": "[encoded data removed]",
      "text/plain": [
       "<Figure size 432x288 with 1 Axes>"
      ]
     },
     "metadata": {
      "needs_background": "light"
     },
     "output_type": "display_data"
    }
   ],
   "source": [
    "train.plot.scatter(x = 'ApEn', y = 'SampEn', c = colors);"
   ]
  },
  {
   "cell_type": "code",
   "execution_count": 28,
   "metadata": {},
   "outputs": [
    {
     "data": {
      "text/html": [
       "<div>\n",
       "<style scoped>\n",
       "    .dataframe tbody tr th:only-of-type {\n",
       "        vertical-align: middle;\n",
       "    }\n",
       "\n",
       "    .dataframe tbody tr th {\n",
       "        vertical-align: top;\n",
       "    }\n",
       "\n",
       "    .dataframe thead th {\n",
       "        text-align: right;\n",
       "    }\n",
       "</style>\n",
       "<table border=\"1\" class=\"dataframe\">\n",
       "  <thead>\n",
       "    <tr style=\"text-align: right;\">\n",
       "      <th></th>\n",
       "      <th>ApEn</th>\n",
       "      <th>SampEn</th>\n",
       "      <th>Class</th>\n",
       "    </tr>\n",
       "  </thead>\n",
       "  <tbody>\n",
       "    <tr>\n",
       "      <th>0</th>\n",
       "      <td>0.271196</td>\n",
       "      <td>0.251777</td>\n",
       "      <td>0</td>\n",
       "    </tr>\n",
       "    <tr>\n",
       "      <th>1</th>\n",
       "      <td>0.529175</td>\n",
       "      <td>0.507173</td>\n",
       "      <td>0</td>\n",
       "    </tr>\n",
       "    <tr>\n",
       "      <th>2</th>\n",
       "      <td>0.179551</td>\n",
       "      <td>0.170584</td>\n",
       "      <td>0</td>\n",
       "    </tr>\n",
       "    <tr>\n",
       "      <th>3</th>\n",
       "      <td>0.494671</td>\n",
       "      <td>0.459829</td>\n",
       "      <td>0</td>\n",
       "    </tr>\n",
       "    <tr>\n",
       "      <th>4</th>\n",
       "      <td>0.658918</td>\n",
       "      <td>0.668206</td>\n",
       "      <td>0</td>\n",
       "    </tr>\n",
       "  </tbody>\n",
       "</table>\n",
       "</div>"
      ],
      "text/plain": [
       "       ApEn    SampEn  Class\n",
       "0  0.271196  0.251777      0\n",
       "1  0.529175  0.507173      0\n",
       "2  0.179551  0.170584      0\n",
       "3  0.494671  0.459829      0\n",
       "4  0.658918  0.668206      0"
      ]
     },
     "execution_count": 28,
     "metadata": {},
     "output_type": "execute_result"
    }
   ],
   "source": [
    "n_test_apen = []\n",
    "for i in range(80, 100):\n",
    "    n_chan = n_raw[i][0][0]\n",
    "    n_test_apen += [ApEn(n_chan, 2, n_r)]\n",
    "z_test_apen = []\n",
    "for i in range(80, 100):\n",
    "    z_chan = z_raw[i][0][0]\n",
    "    z_test_apen += [ApEn(z_chan, 2, z_r)]\n",
    "n_test_sampen = []\n",
    "for i in range(80, 100):\n",
    "    n_chan = n_raw[i][0][0]\n",
    "    n_test_sampen += [SampEn(n_chan, 2, n_r)]\n",
    "z_test_sampen = []\n",
    "for i in range(80, 100):\n",
    "    z_chan = z_raw[i][0][0]\n",
    "    z_test_sampen += [SampEn(z_chan, 2, z_r)]\n",
    "len(z_test_sampen)\n",
    "test_classes = np.concatenate([np.full(20, 0), np.full(20, 1)])\n",
    "test_entropies = {'ApEn': n_test_apen + z_test_apen, 'SampEn': n_test_sampen + z_test_sampen, \n",
    "            'Class': test_classes} \n",
    "test = pd.DataFrame(test_entropies)\n",
    "test.head()"
   ]
  },
  {
   "cell_type": "code",
   "execution_count": 43,
   "metadata": {},
   "outputs": [
    {
     "data": {
      "text/html": [
       "<div>\n",
       "<style scoped>\n",
       "    .dataframe tbody tr th:only-of-type {\n",
       "        vertical-align: middle;\n",
       "    }\n",
       "\n",
       "    .dataframe tbody tr th {\n",
       "        vertical-align: top;\n",
       "    }\n",
       "\n",
       "    .dataframe thead th {\n",
       "        text-align: right;\n",
       "    }\n",
       "</style>\n",
       "<table border=\"1\" class=\"dataframe\">\n",
       "  <thead>\n",
       "    <tr style=\"text-align: right;\">\n",
       "      <th></th>\n",
       "      <th>ApEn</th>\n",
       "      <th>SampEn</th>\n",
       "    </tr>\n",
       "  </thead>\n",
       "  <tbody>\n",
       "    <tr>\n",
       "      <th>0</th>\n",
       "      <td>0.271196</td>\n",
       "      <td>0.251777</td>\n",
       "    </tr>\n",
       "    <tr>\n",
       "      <th>1</th>\n",
       "      <td>0.529175</td>\n",
       "      <td>0.507173</td>\n",
       "    </tr>\n",
       "    <tr>\n",
       "      <th>2</th>\n",
       "      <td>0.179551</td>\n",
       "      <td>0.170584</td>\n",
       "    </tr>\n",
       "    <tr>\n",
       "      <th>3</th>\n",
       "      <td>0.494671</td>\n",
       "      <td>0.459829</td>\n",
       "    </tr>\n",
       "    <tr>\n",
       "      <th>4</th>\n",
       "      <td>0.658918</td>\n",
       "      <td>0.668206</td>\n",
       "    </tr>\n",
       "  </tbody>\n",
       "</table>\n",
       "</div>"
      ],
      "text/plain": [
       "       ApEn    SampEn\n",
       "0  0.271196  0.251777\n",
       "1  0.529175  0.507173\n",
       "2  0.179551  0.170584\n",
       "3  0.494671  0.459829\n",
       "4  0.658918  0.668206"
      ]
     },
     "execution_count": 43,
     "metadata": {},
     "output_type": "execute_result"
    }
   ],
   "source": [
    "test_features = test.iloc[:,:2]\n",
    "train_features = train.iloc[:,:2]\n",
    "test_features.head()"
   ]
  },
  {
   "cell_type": "code",
   "execution_count": 55,
   "metadata": {},
   "outputs": [
    {
     "data": {
      "text/html": [
       "<div>\n",
       "<style scoped>\n",
       "    .dataframe tbody tr th:only-of-type {\n",
       "        vertical-align: middle;\n",
       "    }\n",
       "\n",
       "    .dataframe tbody tr th {\n",
       "        vertical-align: top;\n",
       "    }\n",
       "\n",
       "    .dataframe thead th {\n",
       "        text-align: right;\n",
       "    }\n",
       "</style>\n",
       "<table border=\"1\" class=\"dataframe\">\n",
       "  <thead>\n",
       "    <tr style=\"text-align: right;\">\n",
       "      <th></th>\n",
       "      <th>ApEn</th>\n",
       "      <th>SampEn</th>\n",
       "      <th>Class</th>\n",
       "    </tr>\n",
       "  </thead>\n",
       "  <tbody>\n",
       "    <tr>\n",
       "      <th>0</th>\n",
       "      <td>0.509262</td>\n",
       "      <td>0.485454</td>\n",
       "      <td>0</td>\n",
       "    </tr>\n",
       "    <tr>\n",
       "      <th>1</th>\n",
       "      <td>0.534940</td>\n",
       "      <td>0.575632</td>\n",
       "      <td>0</td>\n",
       "    </tr>\n",
       "    <tr>\n",
       "      <th>2</th>\n",
       "      <td>0.554355</td>\n",
       "      <td>0.434732</td>\n",
       "      <td>0</td>\n",
       "    </tr>\n",
       "    <tr>\n",
       "      <th>3</th>\n",
       "      <td>0.514679</td>\n",
       "      <td>0.492050</td>\n",
       "      <td>0</td>\n",
       "    </tr>\n",
       "    <tr>\n",
       "      <th>4</th>\n",
       "      <td>0.656920</td>\n",
       "      <td>0.898906</td>\n",
       "      <td>0</td>\n",
       "    </tr>\n",
       "  </tbody>\n",
       "</table>\n",
       "</div>"
      ],
      "text/plain": [
       "       ApEn    SampEn  Class\n",
       "0  0.509262  0.485454      0\n",
       "1  0.534940  0.575632      0\n",
       "2  0.554355  0.434732      0\n",
       "3  0.514679  0.492050      0\n",
       "4  0.656920  0.898906      0"
      ]
     },
     "execution_count": 55,
     "metadata": {},
     "output_type": "execute_result"
    }
   ],
   "source": [
    "all_en = pd.concat([train, test])\n",
    "all_en.head()"
   ]
  },
  {
   "cell_type": "code",
   "execution_count": 51,
   "metadata": {},
   "outputs": [],
   "source": [
    "def dist_to_train(test_row):\n",
    "    dists = []\n",
    "    for train_i in range(80):\n",
    "        train_row = train_features.iloc[train_i]\n",
    "        dists += [(sum((test_row - train_row)**2))**.5]\n",
    "    return dists"
   ]
  },
  {
   "cell_type": "code",
   "execution_count": 65,
   "metadata": {},
   "outputs": [],
   "source": [
    "X = all_en[['ApEn', 'SampEn']]\n",
    "y = all_en[['Class']].values.reshape(200)\n",
    "X_train, X_test, y_train, y_test = train_test_split(X, y)"
   ]
  },
  {
   "cell_type": "code",
   "execution_count": 66,
   "metadata": {},
   "outputs": [
    {
     "data": {
      "text/plain": [
       "KNeighborsClassifier(algorithm='auto', leaf_size=30, metric='euclidean',\n",
       "                     metric_params=None, n_jobs=None, n_neighbors=5, p=2,\n",
       "                     weights='uniform')"
      ]
     },
     "execution_count": 66,
     "metadata": {},
     "output_type": "execute_result"
    }
   ],
   "source": [
    "knn = KNeighborsClassifier(n_neighbors=5, metric='euclidean')\n",
    "knn.fit(X_train, y_train)"
   ]
  },
  {
   "cell_type": "code",
   "execution_count": 69,
   "metadata": {},
   "outputs": [
    {
     "data": {
      "text/plain": [
       "array([0, 1, 0, 1, 0, 0, 1, 1, 1, 0, 1, 1, 1, 1, 1, 1, 0, 0, 0, 1, 0, 1,\n",
       "       0, 0, 1, 1, 1, 1, 1, 1, 0, 1, 0, 1, 0, 1, 0, 1, 0, 1, 1, 1, 1, 1,\n",
       "       0, 1, 1, 0, 0, 1])"
      ]
     },
     "execution_count": 69,
     "metadata": {},
     "output_type": "execute_result"
    }
   ],
   "source": [
    "y_pred = knn.predict(X_test)\n",
    "y_pred"
   ]
  },
  {
   "cell_type": "code",
   "execution_count": 70,
   "metadata": {},
   "outputs": [
    {
     "data": {
      "text/plain": [
       "array([[17,  8],\n",
       "       [ 2, 23]], dtype=int64)"
      ]
     },
     "execution_count": 70,
     "metadata": {},
     "output_type": "execute_result"
    }
   ],
   "source": [
    "confusion_matrix(y_test, y_pred)"
   ]
  },
  {
   "cell_type": "code",
   "execution_count": 71,
   "metadata": {},
   "outputs": [
    {
     "data": {
      "text/plain": [
       "0.8"
      ]
     },
     "execution_count": 71,
     "metadata": {},
     "output_type": "execute_result"
    }
   ],
   "source": [
    "(17+23)/(17+8+2+23)"
   ]
  },
  {
   "cell_type": "code",
   "execution_count": null,
   "metadata": {},
   "outputs": [],
   "source": []
  },
  {
   "cell_type": "code",
   "execution_count": null,
   "metadata": {},
   "outputs": [],
   "source": []
  },
  {
   "cell_type": "code",
   "execution_count": null,
   "metadata": {},
   "outputs": [],
   "source": []
  },
  {
   "cell_type": "code",
   "execution_count": null,
   "metadata": {},
   "outputs": [],
   "source": []
  },
  {
   "cell_type": "code",
   "execution_count": null,
   "metadata": {},
   "outputs": [],
   "source": []
  },
  {
   "cell_type": "code",
   "execution_count": null,
   "metadata": {},
   "outputs": [],
   "source": []
  },
  {
   "cell_type": "code",
   "execution_count": null,
   "metadata": {},
   "outputs": [],
   "source": []
  },
  {
   "cell_type": "code",
   "execution_count": null,
   "metadata": {},
   "outputs": [],
   "source": []
  },
  {
   "cell_type": "code",
   "execution_count": null,
   "metadata": {},
   "outputs": [],
   "source": []
  },
  {
   "cell_type": "code",
   "execution_count": null,
   "metadata": {},
   "outputs": [],
   "source": []
  },
  {
   "cell_type": "code",
   "execution_count": null,
   "metadata": {},
   "outputs": [],
   "source": []
  }
 ],
 "metadata": {
  "kernelspec": {
   "display_name": "Python 3",
   "language": "python",
   "name": "python3"
  },
  "language_info": {
   "codemirror_mode": {
    "name": "ipython",
    "version": 3
   },
   "file_extension": ".py",
   "mimetype": "text/x-python",
   "name": "python",
   "nbconvert_exporter": "python",
   "pygments_lexer": "ipython3",
   "version": "3.7.3"
  }
 },
 "nbformat": 4,
 "nbformat_minor": 2
}
